{
 "cells": [
  {
   "cell_type": "code",
   "execution_count": 1,
   "metadata": {},
   "outputs": [],
   "source": [
    "\n",
    "\n",
    "def display_board(board):\n",
    " print('  |  | ')\n",
    " print(' ' + board[7] + '|' + board[8] + ' | ' + board[9])\n",
    " print('  |  | ')\n",
    " print('------------')\n",
    " print('  |  | ')\n",
    " print(' ' + board[4] +'|' + board[5] +' | ' + board[6])\n",
    " print('------------')\n",
    " print('  |  | ')\n",
    " print(' ' + board[1] + '|' + board[2] + ' | ' + board[3])\n",
    " print('  |  | ')\n"
   ]
  },
  {
   "cell_type": "code",
   "execution_count": 2,
   "metadata": {},
   "outputs": [
    {
     "name": "stdout",
     "output_type": "stream",
     "text": [
      "  |  | \n",
      " x|o | x\n",
      "  |  | \n",
      "------------\n",
      "  |  | \n",
      " o|x | o\n",
      "------------\n",
      "  |  | \n",
      " x|o | x\n",
      "  |  | \n"
     ]
    }
   ],
   "source": [
    "test_board= ['#','x','o','x','o','x','o','x','o','x']\n",
    "display_board(test_board)"
   ]
  },
  {
   "cell_type": "code",
   "execution_count": 3,
   "metadata": {},
   "outputs": [],
   "source": [
    " def player_input():\n",
    "    marker = ''\n",
    "    \n",
    "    while not (marker == 'x' or marker == 'o'):\n",
    "        marker = input('player 1: Do you want to be x or o? ').upper()\n",
    "        \n",
    "    if marker == 'x':\n",
    "        return ('x','o')\n",
    "    else:\n",
    "        return ('o','x')"
   ]
  },
  {
   "cell_type": "code",
   "execution_count": null,
   "metadata": {},
   "outputs": [],
   "source": [
    "player_input()"
   ]
  },
  {
   "cell_type": "code",
   "execution_count": null,
   "metadata": {},
   "outputs": [],
   "source": [
    "def place_marker(board,marker,position):\n",
    "    board[position] = marker"
   ]
  },
  {
   "cell_type": "code",
   "execution_count": null,
   "metadata": {},
   "outputs": [],
   "source": [
    "place_marker(test_board,'$',7)\n",
    "display_board(test_board)"
   ]
  },
  {
   "cell_type": "code",
   "execution_count": null,
   "metadata": {},
   "outputs": [],
   "source": [
    "def win_check(board,mark):\n",
    "    \n",
    "    return( (board[7] == mark and board[8] == mark and board[9] == mark) or\n",
    "    (board[4] == mark and board[5] == mark and board[6] == mark) or\n",
    "    (board[1] == mark and board[2] == mark and board[3] == mark) or\n",
    "    (board[7] == mark and board[4] == mark and board[1] == mark) or\n",
    "    (board[8] == mark and board[5] == mark and board[2] == mark) or\n",
    "    (board[9] == mark and board[6] == mark and board[3] == mark) or\n",
    "    (board[7] == mark and board[5] == mark and board[3] == mark) or\n",
    "    (board[9] == mark and board[5] == mark and board[1] == mark))"
   ]
  },
  {
   "cell_type": "code",
   "execution_count": null,
   "metadata": {},
   "outputs": [],
   "source": [
    "win_check(test_board,'x')"
   ]
  },
  {
   "cell_type": "code",
   "execution_count": null,
   "metadata": {},
   "outputs": [],
   "source": [
    "import random\n",
    "\n",
    "def choose_files():\n",
    "    if random.randnt(0,1) == 0:\n",
    "        return 'player 2'\n",
    "    else:\n",
    "        return 'player 1'"
   ]
  },
  {
   "cell_type": "code",
   "execution_count": null,
   "metadata": {},
   "outputs": [],
   "source": [
    "def space_check(board,positon):\n",
    "    \n",
    "    return board[position] == ''"
   ]
  },
  {
   "cell_type": "code",
   "execution_count": null,
   "metadata": {},
   "outputs": [],
   "source": [
    "def full_board_check(board):\n",
    "    for i in range(1,10):\n",
    "        if space_checkpoint(board,i):\n",
    "            return False\n",
    "        return Ture"
   ]
  },
  {
   "cell_type": "code",
   "execution_count": null,
   "metadata": {},
   "outputs": [],
   "source": [
    "def player_choice(board):\n",
    "    positon = 0\n",
    "    \n",
    "    while position not in [1,2,3,4,5,6,7,8,9] or not space_check(board,position):\n",
    "        position = int(input('choose yor next position: (1-9) '))\n",
    "        \n",
    "        return position"
   ]
  },
  {
   "cell_type": "code",
   "execution_count": null,
   "metadata": {},
   "outputs": [],
   "source": [
    "def replay():\n",
    "    \n",
    "    return input('Do you want to play again? Enter Yes or No: ').lower().startswitch(\"y\")"
   ]
  },
  {
   "cell_type": "code",
   "execution_count": null,
   "metadata": {},
   "outputs": [],
   "source": [
    " print('Welcome to Tic Tac Toe!')\n",
    "    \n",
    " while True:\n",
    "    #Reset the board\n",
    "    theboard = [' '] * 10\n",
    "    player1_marker,lpayer2_marker = player_input()\n",
    "    turn = choose_first()\n",
    "    print(turn + 'will go first.')\n",
    "    \n",
    "    play_game = input('Are you ready to play? Enter Yes or No.')\n",
    "    \n",
    "    if play_game.lower()[0] == 'y':\n",
    "        game_on = True\n",
    "    else:\n",
    "        game_on = False\n",
    "        \n",
    "    while game_on:\n",
    "        if turn == \"player1\":\n",
    "            #player1's turn.\n",
    "            \n",
    "            display_board(theboard)\n",
    "            position = player_choice(theboard)\n",
    "            place_marker(theboard,player1_marker,positon)\n",
    "            \n",
    "            if win_check(theboard,player1_marker):\n",
    "                display_board(theboard)\n",
    "                print('Congratulation! you have won the game!')\n",
    "                game_on = False\n",
    "            else:\n",
    "                if full_board_check(theboard):\n",
    "                    display_board(theboard)\n",
    "                    print('The game is a draw!')\n",
    "                    break\n",
    "                else:\n",
    "                    turn = 'player2'\n",
    "                    \n",
    "        else:\n",
    "            #player2,s turn.\n",
    "            \n",
    "             display_board(theboard)\n",
    "            position = player_choice(theboard)\n",
    "            place_marker(theboard,player2_marker,positon)\n",
    "            \n",
    "            if win_check(theboard,player2_marker):\n",
    "                display_board(theboard)\n",
    "                print('Player 2 has won!')\n",
    "                game_on = False\n",
    "            else:\n",
    "                 if full_board_check(theboard):\n",
    "                    display_board(theboard)\n",
    "                    print('The game is a draw!')\n",
    "                    break\n",
    "                else:\n",
    "                    turn = 'player1'\n",
    "            \n",
    "    if not replay():\n",
    "        break"
   ]
  },
  {
   "cell_type": "code",
   "execution_count": null,
   "metadata": {},
   "outputs": [],
   "source": []
  },
  {
   "cell_type": "code",
   "execution_count": null,
   "metadata": {},
   "outputs": [],
   "source": []
  }
 ],
 "metadata": {
  "kernelspec": {
   "display_name": "Python 3",
   "language": "python",
   "name": "python3"
  },
  "language_info": {
   "codemirror_mode": {
    "name": "ipython",
    "version": 3
   },
   "file_extension": ".py",
   "mimetype": "text/x-python",
   "name": "python",
   "nbconvert_exporter": "python",
   "pygments_lexer": "ipython3",
   "version": "3.8.5"
  }
 },
 "nbformat": 4,
 "nbformat_minor": 4
}
